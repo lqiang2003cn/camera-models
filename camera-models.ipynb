{
 "cells": [
  {
   "cell_type": "markdown",
   "id": "9a7075e5",
   "metadata": {},
   "source": [
    "# Simple Camera Models with NumPy and Matplotlib"
   ]
  },
  {
   "cell_type": "code",
   "execution_count": null,
   "id": "80343a49",
   "metadata": {},
   "outputs": [],
   "source": [
    "import matplotlib.pyplot as plt\n",
    "import numpy as np\n",
    "\n",
    "from camera_models import *  # our package\n",
    "\n",
    "\n",
    "DECIMALS = 2  # how many decimal places to use in print\n",
    "\n",
    "\n",
    "%matplotlib notebook\n",
    "%load_ext autoreload\n",
    "%autoreload 2"
   ]
  },
  {
   "cell_type": "markdown",
   "id": "3aa71a5a",
   "metadata": {},
   "source": [
    "> **Disclaimer**: The theory described in this notebook is almost entirely taken from the excellent book [Multiple View Geometry in Computer Vision](https://www.robots.ox.ac.uk/~vgg/hzbook/) by Richard Hartley and Andrew Zisserman. This work is not intended to replace the explanations in the book, but only to present the minimum amount of theory needed so that it can be applied immediately thereafter. "
   ]
  },
  {
   "cell_type": "markdown",
   "id": "0db1155f",
   "metadata": {},
   "source": [
    "## The Pinhole Camera Model"
   ]
  },
  {
   "cell_type": "markdown",
   "id": "ac11364d",
   "metadata": {},
   "source": [
    "![title](figures/Pinhole-camera.svg)\n",
    "Image by Bob Mellish, distributed under a [CC BY-SA 3.0 license](https://creativecommons.org/licenses/by-sa/3.0/deed.en)."
   ]
  },
  {
   "cell_type": "markdown",
   "id": "eb937db2",
   "metadata": {},
   "source": [
    "A **pinhole camera** is a camera with a pinhole aperture and no lens, it is considered the most specialised and simplest camera model. As can be seen from the image above, the **image plane**, also called the **focal plane**, is behind the projection centre called the **camera centre** ($\\boldsymbol{\\rm C}$) or **optical centre**. In what follows, for the sake of simplicity, it is considered to be in front of it, leaving the distance between the two unchanged. The image generated in the plane we will consider is simply the upside-down version of that of the real pinhole camera (and will therefore be upright)."
   ]
  },
  {
   "cell_type": "markdown",
   "id": "1872f92b",
   "metadata": {},
   "source": [
    "## Homogeneous Coordinates"
   ]
  },
  {
   "cell_type": "markdown",
   "id": "dbaaf686",
   "metadata": {},
   "source": [
    "In what follows, we will use **homogeneous coordinates** to simplify some operations.\n",
    "\n",
    "To transform a vector into homogeneous coordinates just add a 1 at the end of it:"
   ]
  },
  {
   "cell_type": "code",
   "execution_count": null,
   "id": "1d97610d",
   "metadata": {},
   "outputs": [],
   "source": [
    "X = np.array([4.0, 2.0, 3.0])\n",
    "print(f\"X: {X}\")\n",
    "Xh = to_homogeneus(X)\n",
    "print(f\"X in homogeneous coordinates: {Xh}\")"
   ]
  },
  {
   "cell_type": "markdown",
   "id": "1d8e91d2",
   "metadata": {},
   "source": [
    "To go from homogeneous coordinates to normal coordinates just divide all elements by the last coordinate and remove it:"
   ]
  },
  {
   "cell_type": "code",
   "execution_count": null,
   "id": "32ed7479",
   "metadata": {},
   "outputs": [],
   "source": [
    "Xh = np.array([8.0, 4.0, 6.0, 2.0])\n",
    "print(f\"X in homogeneous coordinates: {Xh}\")\n",
    "X = to_inhomogeneus(Xh)\n",
    "print(f\"X: {X}\")"
   ]
  },
  {
   "cell_type": "markdown",
   "id": "23ff9038",
   "metadata": {},
   "source": [
    "If you look carefully above, you will see that $\\begin{pmatrix}4.0 & 2.0 & 3.0 & 1.0\\end{pmatrix}$ and $\\begin{pmatrix}8.0 & 4.0 & 6.0 & 2.0\\end{pmatrix}$ are two equivalent representations in homogeneous coordinates of the same vector $\\begin{pmatrix}4.0 & 2.0 & 3.0\\end{pmatrix}$. In general, $\\begin{pmatrix}x & y & z & 1.0\\end{pmatrix}$ and $\\begin{pmatrix}kx & ky & kz & k\\end{pmatrix}$ are equivalent in homogeneous coordinates, so the points are represented by **equivalence classes**, where two points are equivalent when they differ by a common multiple."
   ]
  },
  {
   "cell_type": "markdown",
   "id": "acc3fd29",
   "metadata": {},
   "source": [
    "> **Note**: Where not explicitly specified, the use or non-use of homogeneous coordinates will be clear from the context."
   ]
  },
  {
   "cell_type": "markdown",
   "id": "56fb6cfd",
   "metadata": {},
   "source": [
    "## Camera Translation and Rotation"
   ]
  },
  {
   "cell_type": "markdown",
   "id": "6f1ea437",
   "metadata": {},
   "source": [
    "Points in space are expressed in term of the **world coordinate frame**. The camera will often be translated and rotated relative to it. The parameters of $\\rm R$, the $3 \\times 3$ **rotation matrix** representing the orientation of the **camera coordinate frame** and $\\boldsymbol{\\rm C}$, the coordinates of the camera centre in the world coordinate frame, are called the **external** parameters or the **exterior orientation**."
   ]
  },
  {
   "cell_type": "markdown",
   "id": "2c1f94a1",
   "metadata": {},
   "source": [
    "### Camera Translation"
   ]
  },
  {
   "cell_type": "markdown",
   "id": "c92bf46f",
   "metadata": {},
   "source": [
    "Since we will express the coordinates of the camera with respect to the world coordinate frame (whose origin $\\boldsymbol{\\rm O}$ is equal to $\\boldsymbol{\\rm 0} = \\begin{pmatrix}0.0 & 0.0 & 0.0\\end{pmatrix}$), the translation vector $\\boldsymbol{\\rm t}$ will be equivalent to the camera center, since $\\boldsymbol{\\rm C} = \\boldsymbol{\\rm O} + \\boldsymbol{\\rm t} = \\boldsymbol{\\rm 0} + \\boldsymbol{\\rm t} = \\boldsymbol{\\rm t}$."
   ]
  },
  {
   "cell_type": "markdown",
   "id": "caf4807c",
   "metadata": {},
   "source": [
    "> **Note**: Unfortunately Matplotlib does not yet have the option \"set aspect equal\" for Axes3D, which is why some figures are visually distorted (too long or too short in some directions)."
   ]
  },
  {
   "cell_type": "code",
   "execution_count": null,
   "id": "948944fe",
   "metadata": {},
   "outputs": [],
   "source": [
    "world_origin = np.zeros(3)\n",
    "dx, dy, dz = np.eye(3)\n",
    "t = np.array([3, -4, 2])\n",
    "world_frame = ReferenceFrame(\n",
    "    origin=world_origin, \n",
    "    dx=dx, \n",
    "    dy=dy,\n",
    "    dz=dz,\n",
    "    name=\"World\",\n",
    ")\n",
    "camera_frame = ReferenceFrame(\n",
    "    origin=t,\n",
    "    dx=dx, \n",
    "    dy=dy,\n",
    "    dz=dz,\n",
    "    name=\"Camera\",\n",
    ")\n",
    "\n",
    "ax = plt.axes(projection=\"3d\")\n",
    "world_frame.draw3d()\n",
    "camera_frame.draw3d()\n",
    "draw3d_arrow(world_origin, t, color=\"tab:red\", name=\"t\")\n",
    "set_xyzlim3d(-3, 3)\n",
    "ax.set_title(f\"Camera Translation (t = {t})\")\n",
    "plt.tight_layout()\n",
    "plt.show()"
   ]
  },
  {
   "cell_type": "markdown",
   "id": "7dc76982",
   "metadata": {},
   "source": [
    "### Camera Rotation"
   ]
  },
  {
   "cell_type": "markdown",
   "id": "883b2f41",
   "metadata": {
    "editable": true,
    "slideshow": {
     "slide_type": ""
    },
    "tags": []
   },
   "source": [
    "![title](figures/638px-Yaw_Axis_Corrected.svg.png)\n",
    "Image by Auawise, distributed under a [CC BY-SA 3.0 license](https://creativecommons.org/licenses/by-sa/3.0/deed.en)."
   ]
  },
  {
   "cell_type": "markdown",
   "id": "8de631bb",
   "metadata": {},
   "source": [
    "Any rotation represented by a matrix $\\rm R$ can be broken down into three rotations with respect to the X, Y and Z axes as\n",
    "\n",
    "$$\n",
    "\\rm R = \\rm R_z \\rm R_y \\rm R_x = \n",
    "\\begin{bmatrix}\n",
    "\\cos \\theta_z & -\\sin \\theta_z & 0 \\\\\n",
    "\\sin \\theta_z &  \\cos \\theta_z & 0 \\\\\n",
    " 0            &   0            & 1 \\\\\n",
    "\\end{bmatrix}\n",
    "\\begin{bmatrix}\n",
    " \\cos \\theta_y & 0 & \\sin \\theta_y \\\\\n",
    "  0            & 1 &  0 \\\\\n",
    "-\\sin \\theta_y & 0 & \\cos \\theta_y \\\\\n",
    "\\end{bmatrix}\n",
    "\\begin{bmatrix}\n",
    "1 &  0            &   0 \\\\\n",
    "0 & \\cos \\theta_x & -\\sin \\theta_x \\\\\n",
    "0 & \\sin \\theta_x &  \\cos \\theta_x \\\\\n",
    "\\end{bmatrix}\n",
    "= \n",
    "\\begin{bmatrix}\n",
    "\\cos\\theta_z\\cos\\theta_y & \\cos\\theta_z\\sin\\theta_y\\sin\\theta_x - \\sin\\theta_z\\cos\\theta_x & \\cos\\theta_z\\sin\\theta_y\\cos\\theta_x + \\sin\\theta_z\\sin\\theta_x \\\\\n",
    "\\sin\\theta_z\\cos\\theta_y & \\sin\\theta_z\\sin\\theta_y\\sin\\theta_x + \\cos\\theta_z\\cos\\theta_x & \\sin\\theta_z\\sin\\theta_y\\cos\\theta_x - \\cos\\theta_z\\sin\\theta_x \\\\\n",
    "-\\sin\\theta_y & \\cos\\theta_y\\sin\\theta_x & \\cos\\theta_y\\cos\\theta_x \\\\\n",
    "\\end{bmatrix}\\,.\n",
    "$$\n",
    "\n",
    "The angles $\\theta_x$, $\\theta_y$ and $\\theta_z$ are often called **Euler angles** or, more correctly **Tait–Bryan angles**, given that in the original Euler formulation the same axis was considered twice (Z-X-Z, Y-X-Y, etc.). These angles are also associated with the concepts of **roll**, **pitch** and **yaw** (see the image above)."
   ]
  },
  {
   "cell_type": "code",
   "execution_count": null,
   "id": "a74cb07d",
   "metadata": {
    "editable": true,
    "slideshow": {
     "slide_type": ""
    },
    "tags": []
   },
   "outputs": [],
   "source": [
    "Rx = get_rotation_matrix(theta_x=np.pi / 2.0)\n",
    "Ry = get_rotation_matrix(theta_y=np.pi / 2.0)\n",
    "Rz = get_rotation_matrix(theta_z=np.pi / 2.0)\n",
    "dx, dy, dz = np.eye(3)\n",
    "world_frame = ReferenceFrame(\n",
    "    origin=np.zeros(3), \n",
    "    dx=dx, \n",
    "    dy=dy,\n",
    "    dz=dz,\n",
    "    name=\"World\",\n",
    ")\n",
    "roll_frame = ReferenceFrame(\n",
    "    origin=np.zeros(3), \n",
    "    dx=Rx @ dx, \n",
    "    dy=Rx @ dy,\n",
    "    dz=Rx @ dz,\n",
    "    name=\"Camera\",\n",
    ")\n",
    "pitch_frame = ReferenceFrame(\n",
    "    origin=np.zeros(3), \n",
    "    dx=Ry @ dx, \n",
    "    dy=Ry @ dy,\n",
    "    dz=Ry @ dz,\n",
    "    name=\"Camera\",\n",
    ")\n",
    "yaw_frame = ReferenceFrame(\n",
    "    origin=np.zeros(3), \n",
    "    dx=Rz @ dx, \n",
    "    dy=Rz @ dy,\n",
    "    dz=Rz @ dz,\n",
    "    name=\"Camera\",\n",
    ")\n",
    "fig = plt.figure()\n",
    "\n",
    "ax = fig.add_subplot(2, 2, 1, projection=\"3d\")\n",
    "world_frame.draw3d()\n",
    "set_xyzlim3d(-1, 1)\n",
    "set_xyzticks([])\n",
    "ax.set_title(f\"No Rotation\")\n",
    "\n",
    "ax = fig.add_subplot(2, 2, 2, projection=\"3d\")\n",
    "roll_frame.draw3d()\n",
    "set_xyzlim3d(-1, 1)\n",
    "ax.set_title(f\"Roll (90°)\")\n",
    "set_xyzticks([])\n",
    "\n",
    "ax = fig.add_subplot(2, 2, 3, projection=\"3d\")\n",
    "pitch_frame.draw3d()\n",
    "set_xyzlim3d(-1, 1)\n",
    "set_xyzticks([])\n",
    "ax.set_title(f\"Pitch (90°)\")\n",
    "\n",
    "ax = fig.add_subplot(2, 2, 4, projection=\"3d\")\n",
    "yaw_frame.draw3d()\n",
    "set_xyzlim3d(-1, 1)\n",
    "set_xyzticks([])\n",
    "ax.set_title(f\"Yaw (90°)\")\n",
    "\n",
    "fig.suptitle(\"Camera Rotation\")\n",
    "plt.tight_layout()\n",
    "plt.show()"
   ]
  },
  {
   "cell_type": "markdown",
   "id": "ab792051",
   "metadata": {},
   "source": [
    "## Pinhole Camera Geometry"
   ]
  },
  {
   "cell_type": "markdown",
   "id": "f2216d90-ee9c-40e0-99b9-b70beed41f17",
   "metadata": {},
   "source": [
    "Let's define some quantities:\n",
    "* **Focal length** ($f$): distance between the camera centre and the image plane.\n",
    "* **Principal axis** or **Principal ray** ($\\rm Z$) of the camera: line from the camera centre perpendicular to the image plane.\n",
    "* **Principal point** ($\\boldsymbol{\\rm p}$): point where the principal axis meets the image plane, its coordinates with respect to the reference system of the image are $(p_x, p_y)^\\top$.\n",
    "\n",
    "We can now visually represent the pinhole camera geometry."
   ]
  },
  {
   "cell_type": "code",
   "execution_count": null,
   "id": "d45e2a4b",
   "metadata": {},
   "outputs": [],
   "source": [
    "F = 3.0  # focal length\n",
    "PX= 2.0  # principal point x-coordinate\n",
    "PY= 1.0  # principal point y-coordinate\n",
    "THETA_X = np.pi / 2  # roll angle\n",
    "THETA_Z = np.pi  # yaw angle\n",
    "C = np.array([3, -5, 2])  # camera centre\n",
    "IMAGE_HEIGTH = 4\n",
    "IMAGE_WIDTH = 6"
   ]
  },
  {
   "cell_type": "code",
   "execution_count": null,
   "id": "ccb08ade",
   "metadata": {},
   "outputs": [],
   "source": [
    "R = get_rotation_matrix(theta_x=THETA_X, theta_z=THETA_Z)\n",
    "world_origin = np.zeros(3)\n",
    "dx, dy, dz = np.eye(3)\n",
    "world_frame = ReferenceFrame(\n",
    "    origin=world_origin, \n",
    "    dx=dx, \n",
    "    dy=dy,\n",
    "    dz=dz,\n",
    "    name=\"World\",\n",
    ")\n",
    "camera_frame = ReferenceFrame(\n",
    "    origin=C, \n",
    "    dx=R @ dx, \n",
    "    dy=R @ dy,\n",
    "    dz=R @ dz,\n",
    "    name=\"Camera\",\n",
    ")\n",
    "Z = PrincipalAxis(\n",
    "    camera_center=camera_frame.origin,\n",
    "    camera_dz=camera_frame.dz,\n",
    "    f=F,\n",
    ")\n",
    "image_frame = ReferenceFrame(\n",
    "    origin=Z.p - camera_frame.dx * PX - camera_frame.dy * PY, \n",
    "    dx=R @ dx, \n",
    "    dy=R @ dy,\n",
    "    dz=R @ dz,\n",
    "    name=\"Image\",\n",
    ")\n",
    "image_plane = ImagePlane(\n",
    "    origin=image_frame.origin, \n",
    "    dx=image_frame.dx, \n",
    "    dy=image_frame.dy, \n",
    "    heigth=IMAGE_HEIGTH,\n",
    "    width=IMAGE_WIDTH,\n",
    ")"
   ]
  },
  {
   "cell_type": "code",
   "execution_count": null,
   "id": "e77c3526",
   "metadata": {},
   "outputs": [],
   "source": [
    "fig = plt.figure(figsize=(6, 6))\n",
    "ax = plt.axes(projection=\"3d\")\n",
    "ax.text(*C, \"C\")\n",
    "world_frame.draw3d()\n",
    "camera_frame.draw3d()\n",
    "image_frame.draw3d()\n",
    "Z.draw3d()\n",
    "image_plane.draw3d()\n",
    "ax.view_init(elev=30.0, azim=30.0)\n",
    "ax.set_title(\"Pinhole Camera Geometry\")\n",
    "plt.tight_layout()\n",
    "plt.show()"
   ]
  },
  {
   "cell_type": "markdown",
   "id": "fcf82ba6",
   "metadata": {},
   "source": [
    "## Representation of a Generic Point in 3D"
   ]
  },
  {
   "cell_type": "markdown",
   "id": "cf6f160f",
   "metadata": {},
   "source": [
    "### Intersection Between a Line and a Plane"
   ]
  },
  {
   "cell_type": "markdown",
   "id": "1a33ea58",
   "metadata": {},
   "source": [
    "We now add a generic point $\\boldsymbol{\\rm X}$ in space and see how it is represented in the image plane.\n",
    "\n",
    "Let us consider the line joining the camera centre $\\boldsymbol{\\rm C}$ with the point $\\boldsymbol{\\rm X}$, both represented in homogeneous coordinates. We can represent this line with a $4 \\times 4$ skew-symmetric homogeneous matrix, called its **plücker matrix**, that is defined as\n",
    "\n",
    "$$\n",
    "\\rm L = \\boldsymbol{\\rm C}\\boldsymbol{\\rm X}^\\top - \\boldsymbol{\\rm X}\\boldsymbol{\\rm C}^\\top \\,.\n",
    "$$\n",
    "\n",
    "We can also find the representation in homogeneous coordinates of the image plane $\\boldsymbol \\pi$ starting from three points on it. For example we can use the origin of the image frame that we call $\\boldsymbol{\\rm X_1} = \\begin{pmatrix}\\boldsymbol{\\rm \\tilde{X}_1} \\\\ 1\\end{pmatrix}$ and the two points $\\boldsymbol{\\rm X_2} = \\begin{pmatrix}\\boldsymbol{\\rm \\tilde{X}_2} \\\\ 1\\end{pmatrix} = \\boldsymbol{\\rm X_1} + d_x$ and $\\boldsymbol{\\rm X_3} = \\begin{pmatrix}\\boldsymbol{\\rm \\tilde{X}_3} \\\\ 1\\end{pmatrix} = \\boldsymbol{\\rm X_1} + d_y$ and apply the formula\n",
    "\n",
    "$$\n",
    "\\boldsymbol \\pi = \\begin{bmatrix}\n",
    "(\\boldsymbol{\\rm \\tilde{X}_1} - \\boldsymbol{\\rm \\tilde{X}_3}) \\times (\\boldsymbol{\\rm \\tilde{X}_2} - \\boldsymbol{\\rm \\tilde{X}_3}) \\\\\n",
    "-\\boldsymbol{\\rm \\tilde{X}_3}^\\top (\\boldsymbol{\\rm \\tilde{X}_1} - \\boldsymbol{\\rm \\tilde{X}_2})\n",
    "\\end{bmatrix} \\,.\n",
    "$$\n",
    "\n",
    "Now that we have all the ingredients, the intersection between the line $\\rm L$ and the plane $\\boldsymbol \\pi$ is simply\n",
    "\n",
    "$$\n",
    "\\boldsymbol{x} = \\rm L \\boldsymbol \\pi \\,.\n",
    "$$"
   ]
  },
  {
   "cell_type": "code",
   "execution_count": null,
   "id": "58dd7f90",
   "metadata": {},
   "outputs": [],
   "source": [
    "X = np.array([-1, 2, 3])\n",
    "G = GenericPoint(X, name=\"X\")\n",
    "L = get_plucker_matrix(C, X)\n",
    "X1 = image_frame.origin\n",
    "X2 = X1 + image_frame.dx\n",
    "X3 = X1 + image_frame.dy\n",
    "pi = get_plane_from_three_points(X1, X2, X3)\n",
    "x = to_inhomogeneus(L @ pi)\n",
    "print(f\"X:\\n{X}\")\n",
    "print(f\"\\nL:\\n{L.round(DECIMALS)}\")\n",
    "print(f\"\\nX1:\\n{X1}\")\n",
    "print(f\"\\nX2:\\n{X2}\")\n",
    "print(f\"\\nX3:\\n{X3}\")\n",
    "print(f\"\\npi:\\n{pi.round(DECIMALS)}\")\n",
    "print(f\"\\nx:\\n{x.round(DECIMALS)}\")"
   ]
  },
  {
   "cell_type": "markdown",
   "id": "92c3909b",
   "metadata": {},
   "source": [
    "If you look closely at the homogeneous coordinates of the plane $\\boldsymbol \\pi = \\begin{pmatrix}\\pi_1 & \\pi_2 & \\pi_3 & \\pi_4\\end{pmatrix}^\\top$, you will notice that the first three correspond to the plane normal $\\boldsymbol{\\rm n}$ of Euclidean geometry while the last is the distance of the plane from the origin. An equivalently representation of the plane would be, for example, $4 \\cdot \\begin{pmatrix}0 & 1 & 0 & 2\\end{pmatrix} = \\begin{pmatrix}0 & 4 & 0 & 8\\end{pmatrix}$, in this case the distance of the plane from the origin is $\\pi_4 / \\| \\boldsymbol{\\rm n} \\| = 8 / 4 = 2$ as before."
   ]
  },
  {
   "cell_type": "code",
   "execution_count": null,
   "id": "a955c64a",
   "metadata": {},
   "outputs": [],
   "source": [
    "fig = plt.figure(figsize=(6, 6))\n",
    "ax = plt.axes(projection=\"3d\")\n",
    "ax.text(*C, \"C\")\n",
    "world_frame.draw3d()\n",
    "camera_frame.draw3d()\n",
    "image_frame.draw3d()\n",
    "Z.draw3d()\n",
    "image_plane.draw3d()\n",
    "G.draw3d(pi, C=C)\n",
    "ax.view_init(elev=30.0, azim=30.0)\n",
    "ax.set_title(f\"Representation of a Generic Point in 3D (X = {X})\")\n",
    "plt.tight_layout()\n",
    "plt.show()"
   ]
  },
  {
   "cell_type": "markdown",
   "id": "ef957bed",
   "metadata": {},
   "source": [
    "## Camera Calibration Matrix"
   ]
  },
  {
   "cell_type": "markdown",
   "id": "b0ff6241",
   "metadata": {},
   "source": [
    "We now introduce a new matrix $\\rm K$, called the **camera calibration matrix**, that contains what are called the **internal** camera parameters, or **internal orientation** of the camera.\n",
    "\n",
    "$$\n",
    "\\rm K = \\begin{bmatrix}\n",
    "f & 0        & p_x \\\\\n",
    " 0       & f & p_y \\\\\n",
    " 0       & 0        & 1 \\\\\n",
    "\\end{bmatrix}\\,.\n",
    "$$\n",
    "\n",
    "If we assume that the camera centre coincides with the origin of the world coordinate frame and that there is no rotation, the **image point** $\\boldsymbol{\\rm x}$ is given by $\\boldsymbol{\\rm x} = \\rm K [I | 0] X$, we call $\\rm P =  K [I | 0]$ the **camera projection matrix**."
   ]
  },
  {
   "cell_type": "code",
   "execution_count": null,
   "id": "ecc7943c",
   "metadata": {},
   "outputs": [],
   "source": [
    "F = 3.0  # focal length\n",
    "PX= 2.0  # principal point x-coordinate\n",
    "PY= 1.0  # principal point y-coordinate\n",
    "IMAGE_HEIGTH = 4\n",
    "IMAGE_WIDTH = 6"
   ]
  },
  {
   "cell_type": "code",
   "execution_count": null,
   "id": "2452f4e1",
   "metadata": {},
   "outputs": [],
   "source": [
    "X = np.array([-1, 2, 3])\n",
    "Xh = to_homogeneus(X)\n",
    "K = get_calibration_matrix(F, px=PX, py=PY)\n",
    "P = get_projection_matrix(F, px=PX, py=PY)\n",
    "xh = P @ Xh\n",
    "x = to_inhomogeneus(xh)\n",
    "print(\"\\nX:\\n\", X)\n",
    "print(\"\\nCalibration matrix (K):\\n\", K)\n",
    "print(\"\\nProjection matrix (P):\\n\", P)\n",
    "print(\"\\nx:\\n\", x)"
   ]
  },
  {
   "cell_type": "code",
   "execution_count": null,
   "id": "d87df21c",
   "metadata": {},
   "outputs": [],
   "source": [
    "image = Image(heigth=IMAGE_HEIGTH, width=IMAGE_WIDTH)\n",
    "G = GenericPoint(X, name=\"X\")"
   ]
  },
  {
   "cell_type": "code",
   "execution_count": null,
   "id": "1b630fab",
   "metadata": {},
   "outputs": [],
   "source": [
    "fig = plt.figure(figsize=(IMAGE_WIDTH, IMAGE_HEIGTH))\n",
    "ax = fig.gca()\n",
    "image.draw()\n",
    "G.draw(F, px=PX, py=PY)\n",
    "ax.set_title(\"Image of the Point X\")\n",
    "plt.tight_layout()\n",
    "plt.show()"
   ]
  },
  {
   "cell_type": "markdown",
   "id": "97e88d1a",
   "metadata": {},
   "source": [
    "## CCD Cameras"
   ]
  },
  {
   "cell_type": "markdown",
   "id": "b1854630",
   "metadata": {},
   "source": [
    "To give an example of how the pinhole camera model can be extended, we will now consider a **CCD camera**. Unlike the pinhole camera which assumes square pixels, in this case we admit the possibility of having rectangular pixels. The **number of pixels per unit distance in image coordinates** are $m_x$ and $m_y$ in the x and y directions, the transformation from world coordinate to pixels coordinate is then obtained by premultiplying the calibration matrix on the left by an extra factor $\\rm diag{(m_x, m_y, 1)}$. Thus, the general form of the calibration matrix of a CCD camera is\n",
    "\n",
    "$$\n",
    "\\rm K = \\begin{bmatrix}\n",
    "m_x & 0   & 0 \\\\\n",
    "0   & m_y & 0 \\\\\n",
    "0   & 0   & 1 \\\\\n",
    "\\end{bmatrix}\n",
    "\\begin{bmatrix}\n",
    "f & 0 & p_x \\\\\n",
    "0 & f & p_y \\\\\n",
    "0 & 0 & 1 \\\\\n",
    "\\end{bmatrix} = \\begin{bmatrix}\n",
    "m_xf & 0    & m_xp_x \\\\\n",
    "0    & m_yf & m_yp_y \\\\\n",
    "0    & 0    & 1 \\\\\n",
    "\\end{bmatrix} =\n",
    "\\begin{bmatrix}\n",
    "\\alpha_x & 0        & x_0 \\\\\n",
    " 0       & \\alpha_x & y_0 \\\\\n",
    " 0       & 0        & 1 \\\\\n",
    "\\end{bmatrix}\\,.\n",
    "$$\n",
    "\n",
    "Let us now see the effect of introducing the new parameters $m_x$ and $m_y$."
   ]
  },
  {
   "cell_type": "code",
   "execution_count": null,
   "id": "b41dd305",
   "metadata": {},
   "outputs": [],
   "source": [
    "MX = 2  # number of pixels per unit distance in image coordinates in x direction\n",
    "MY = 0.5  # number of pixels per unit distance in image coordinates in y direction"
   ]
  },
  {
   "cell_type": "code",
   "execution_count": null,
   "id": "fe01d0f2",
   "metadata": {},
   "outputs": [],
   "source": [
    "X = np.array([-1, 2, 3])\n",
    "Xh = to_homogeneus(X)\n",
    "K = get_calibration_matrix(F, px=PX, py=PY, mx=MX, my=MY)\n",
    "P = get_projection_matrix(F, px=PX, py=PY, mx=MX, my=MY)\n",
    "xh = P @ Xh\n",
    "x = to_inhomogeneus(xh)\n",
    "print(\"\\nX:\\n\", X)\n",
    "print(\"\\nCalibration matrix (K):\\n\", K)\n",
    "print(\"\\nProjection matrix (P):\\n\", P)\n",
    "print(\"\\nx:\\n\", x)"
   ]
  },
  {
   "cell_type": "code",
   "execution_count": null,
   "id": "e2df20a6",
   "metadata": {},
   "outputs": [],
   "source": [
    "fig = plt.figure(figsize=(IMAGE_WIDTH, IMAGE_HEIGTH))\n",
    "ax = fig.gca()\n",
    "image.draw()\n",
    "G.draw(F, px=PX, py=PY)\n",
    "G.draw(F, px=PX, py=PY, mx=MX, my=MY, color=\"tab:purple\")\n",
    "ax.set_title(\"Image of the Point X for a Pinhole (Green) and a CCD (Purple) Camera\")\n",
    "plt.tight_layout()\n",
    "plt.show()"
   ]
  },
  {
   "cell_type": "markdown",
   "id": "69898683",
   "metadata": {},
   "source": [
    "As you can see from the graph, the coordinates of the point are multiplied by $m_x$ and $m_y$."
   ]
  },
  {
   "cell_type": "markdown",
   "id": "e9022e0e",
   "metadata": {},
   "source": [
    "## Camera Projection Matrix"
   ]
  },
  {
   "cell_type": "markdown",
   "id": "fe5fbc8d",
   "metadata": {},
   "source": [
    "We have already introduced the camera projection matrix, let us now drop the hypothesis that there is no rotation or translation between the camera and the world frames, in this case the projection matrix of a CCD camera is\n",
    "\n",
    "$$\n",
    "\\rm P = K R [I|-C] \\,.\n",
    "$$\n",
    "\n",
    "We can therefore view the new camera model in both 3D and 2D."
   ]
  },
  {
   "cell_type": "code",
   "execution_count": null,
   "id": "e8c82492",
   "metadata": {},
   "outputs": [],
   "source": [
    "FOCAL_LENGTH = 3.0  # focal length\n",
    "PX= 2.0  # principal point x-coordinate\n",
    "PY= 1.0  # principal point y-coordinate\n",
    "MX = 1.0  # number of pixels per unit distance in image coordinates in x direction\n",
    "MY = 1.0  # number of pixels per unit distance in image coordinates in y direction\n",
    "THETA_X = np.pi / 2.0  # roll angle\n",
    "THETA_Y = 0.0  # pitch angle\n",
    "THETA_Z = np.pi  # yaw angle\n",
    "C = np.array([3, -5, 2])  # camera centre\n",
    "IMAGE_HEIGTH = 4\n",
    "IMAGE_WIDTH = 6\n",
    "\n",
    "\n",
    "calibration_kwargs = {\"f\": FOCAL_LENGTH, \"px\": PX, \"py\": PY, \"mx\": MX, \"my\": MY}\n",
    "rotation_kwargs = {\"theta_x\": THETA_X, \"theta_y\": THETA_Y, \"theta_z\": THETA_Z}\n",
    "projection_kwargs = {**calibration_kwargs, **rotation_kwargs, \"C\": C}"
   ]
  },
  {
   "cell_type": "code",
   "execution_count": null,
   "id": "1401f7a4",
   "metadata": {},
   "outputs": [],
   "source": [
    "K = get_calibration_matrix(**calibration_kwargs)\n",
    "print(\"Calibration matrix (K):\\n\", K.round(DECIMALS))\n",
    "R = get_rotation_matrix(**rotation_kwargs)\n",
    "print(\"\\nRotation matrix (R):\\n\", R.round(DECIMALS))\n",
    "P = get_projection_matrix(**projection_kwargs)\n",
    "print(\"\\nProjection matrix (P):\\n\", P.round(DECIMALS))"
   ]
  },
  {
   "cell_type": "code",
   "execution_count": null,
   "id": "65ee4775",
   "metadata": {},
   "outputs": [],
   "source": [
    "dx, dy, dz = np.eye(3)\n",
    "world_frame = ReferenceFrame(\n",
    "    origin=np.zeros(3), \n",
    "    dx=dx, \n",
    "    dy=dy,\n",
    "    dz=dz,\n",
    "    name=\"World\",\n",
    ")\n",
    "camera_frame = ReferenceFrame(\n",
    "    origin=C, \n",
    "    dx=R @ dx, \n",
    "    dy=R @ dy,\n",
    "    dz=R @ dz,\n",
    "    name=\"Camera\",\n",
    ")\n",
    "Z = PrincipalAxis(\n",
    "    camera_center=C,\n",
    "    camera_dz=camera_frame.dz,\n",
    "    f=FOCAL_LENGTH,\n",
    ")\n",
    "image_frame = ReferenceFrame(\n",
    "    origin=Z.p - camera_frame.dx * PX - camera_frame.dy * PY, \n",
    "    dx=R @ dx, \n",
    "    dy=R @ dy,\n",
    "    dz=R @ dz,\n",
    "    name=\"Image\",\n",
    ")\n",
    "image_plane = ImagePlane(\n",
    "    origin=image_frame.origin, \n",
    "    dx=image_frame.dx, \n",
    "    dy=image_frame.dy, \n",
    "    heigth=IMAGE_HEIGTH,\n",
    "    width=IMAGE_WIDTH,\n",
    "    mx=MX,\n",
    "    my=MY,\n",
    ")\n",
    "image = Image(heigth=IMAGE_HEIGTH, width=IMAGE_WIDTH)\n",
    "square1 = Polygon(np.array([\n",
    "    [-1.0, 5.0, 4.0],\n",
    "    [1.0, 3.0, 5.0],\n",
    "    [1.0, 2.0, 2.0],\n",
    "    [-1.0, 4.0, 1.0],\n",
    "]))\n",
    "square2 = Polygon(np.array([\n",
    "    [-2.0, 4.0, 5.0],\n",
    "    [2.0, 4.0, 5.0],\n",
    "    [2.0, 4.0, 1.0],\n",
    "    [-2.0, 4.0, 1.0],\n",
    "]))"
   ]
  },
  {
   "cell_type": "code",
   "execution_count": null,
   "id": "46e8e3d2",
   "metadata": {},
   "outputs": [],
   "source": [
    "fig = plt.figure(figsize=(6, 6))\n",
    "ax = plt.axes(projection=\"3d\")\n",
    "world_frame.draw3d()\n",
    "camera_frame.draw3d()\n",
    "image_frame.draw3d()\n",
    "Z.draw3d()\n",
    "image_plane.draw3d()\n",
    "square1.draw3d(pi=image_plane.pi, C=C)\n",
    "square2.draw3d(pi=image_plane.pi, C=C, color=\"tab:purple\")\n",
    "ax.view_init(elev=45.0, azim=45.0)\n",
    "ax.set_title(\"CCD Camera Geometry\")\n",
    "plt.tight_layout()\n",
    "plt.show()\n",
    "\n",
    "fig = plt.figure(figsize=(IMAGE_WIDTH, IMAGE_HEIGTH))\n",
    "ax = fig.gca()\n",
    "image.draw()\n",
    "square1.draw(**projection_kwargs)\n",
    "square2.draw(**projection_kwargs, color=\"tab:purple\")\n",
    "ax.set_title(\"Projection of Squares in the Image\")\n",
    "plt.tight_layout()\n",
    "plt.show()"
   ]
  },
  {
   "cell_type": "markdown",
   "id": "dd678c08",
   "metadata": {},
   "source": [
    "## Final Thoughts"
   ]
  },
  {
   "cell_type": "markdown",
   "id": "dd677c01",
   "metadata": {},
   "source": [
    "That's it! You can now play with the parameters above to improve your understanding of the concepts introduced in this notebook. I would also advise you not to limit yourself to using the functions but to go and see how they are implemented. If you have any questions about the topics covered here, connect with me and write me a message, within the limits of my knowledge and time I will try to answer you.\n",
    "\n",
    "Here my contacts:\n",
    "* **LinkedIn**: https://www.linkedin.com/in/mnslarcher\n",
    "* **Twitter**: https://twitter.com/mnslarcher"
   ]
  }
 ],
 "metadata": {
  "kernelspec": {
   "display_name": "Python 3 (ipykernel)",
   "language": "python",
   "name": "python3"
  },
  "language_info": {
   "codemirror_mode": {
    "name": "ipython",
    "version": 3
   },
   "file_extension": ".py",
   "mimetype": "text/x-python",
   "name": "python",
   "nbconvert_exporter": "python",
   "pygments_lexer": "ipython3",
   "version": "3.10.14"
  }
 },
 "nbformat": 4,
 "nbformat_minor": 5
}
